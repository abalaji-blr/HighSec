{
 "cells": [
  {
   "cell_type": "code",
   "execution_count": 1,
   "metadata": {},
   "outputs": [
    {
     "name": "stdout",
     "output_type": "stream",
     "text": [
      "Hello, world\n"
     ]
    }
   ],
   "source": [
    "print('Hello, world')"
   ]
  },
  {
   "cell_type": "markdown",
   "metadata": {},
   "source": [
    "## About Comment"
   ]
  },
  {
   "cell_type": "code",
   "execution_count": 8,
   "metadata": {},
   "outputs": [],
   "source": [
    "# this is comment"
   ]
  },
  {
   "cell_type": "code",
   "execution_count": 9,
   "metadata": {},
   "outputs": [
    {
     "data": {
      "text/plain": [
       "'\\nline 1\\nline 2\\n'"
      ]
     },
     "execution_count": 9,
     "metadata": {},
     "output_type": "execute_result"
    }
   ],
   "source": [
    "'''\n",
    "line 1\n",
    "line 2\n",
    "'''"
   ]
  },
  {
   "cell_type": "markdown",
   "metadata": {},
   "source": [
    "## Variables"
   ]
  },
  {
   "cell_type": "code",
   "execution_count": 12,
   "metadata": {},
   "outputs": [
    {
     "name": "stdout",
     "output_type": "stream",
     "text": [
      "True\n",
      "Leandro Tk\n",
      "15.8\n"
     ]
    }
   ],
   "source": [
    "# booleans\n",
    "true_boolean = True\n",
    "false_boolean = False\n",
    "\n",
    "# string\n",
    "my_name = \"Leandro Tk\"\n",
    "\n",
    "# float\n",
    "book_price = 15.80\n",
    "\n",
    "print(true_boolean)\n",
    "print(my_name)\n",
    "print(book_price)"
   ]
  },
  {
   "cell_type": "code",
   "execution_count": 17,
   "metadata": {},
   "outputs": [
    {
     "name": "stdout",
     "output_type": "stream",
     "text": [
      "<class 'float'>\n",
      "<class 'str'>\n",
      "<class 'bool'>\n"
     ]
    }
   ],
   "source": [
    "print(type(book_price))\n",
    "print(type(my_name))\n",
    "print(type(true_boolean))"
   ]
  },
  {
   "cell_type": "code",
   "execution_count": 42,
   "metadata": {},
   "outputs": [
    {
     "name": "stdout",
     "output_type": "stream",
     "text": [
      "4428569456\n",
      "4401183632\n"
     ]
    }
   ],
   "source": [
    "# address of the variable\n",
    "print(id(book_price))\n",
    "print(id(10))"
   ]
  },
  {
   "cell_type": "markdown",
   "metadata": {},
   "source": [
    "## Operators"
   ]
  },
  {
   "cell_type": "markdown",
   "metadata": {},
   "source": [
    "### Unary operators"
   ]
  },
  {
   "cell_type": "code",
   "execution_count": 40,
   "metadata": {},
   "outputs": [
    {
     "name": "stdout",
     "output_type": "stream",
     "text": [
      "-10\n",
      "10\n",
      "-11\n",
      "False\n"
     ]
    }
   ],
   "source": [
    "i = 10\n",
    "\n",
    "print(-i)\n",
    "print(+i)\n",
    "print(~i) # bitwise compliment\n",
    "print(not(True))"
   ]
  },
  {
   "cell_type": "markdown",
   "metadata": {},
   "source": [
    "### Arthmetic (binary) Operators"
   ]
  },
  {
   "cell_type": "code",
   "execution_count": 31,
   "metadata": {},
   "outputs": [
    {
     "name": "stdout",
     "output_type": "stream",
     "text": [
      "addition: 20\n",
      "20 - 5 =  15\n",
      "5\n",
      "10 % 3 =  1\n",
      "10 // 3 =  3\n",
      "div 10 /3 =  3.3333333333333335\n",
      "exponential : 5 ** 3 = 125\n"
     ]
    }
   ],
   "source": [
    "i = 10 #  \n",
    "j = i + 10 # addition\n",
    "print('addition:', j)\n",
    "\n",
    "k = j - 5 # subtraction\n",
    "print('20 - 5 = ',k)\n",
    "\n",
    "# mult *\n",
    "# division /\n",
    "\n",
    "div = int(20 / 4)\n",
    "print(div)\n",
    "type(div)\n",
    "\n",
    "## mod\n",
    "\n",
    "mod_value = 10 % 3 \n",
    "print('10 % 3 = ', mod_value) # modulus / remainder\n",
    "\n",
    "quot_value = 10 // 3  ## floor division\n",
    "print('10 // 3 = ', quot_value)\n",
    "\n",
    "print('div 10 /3 = ', 10 / 3) # divi\n",
    "\n",
    "print('exponential : 5 ** 3 =', 5 ** 3) ## exponential"
   ]
  },
  {
   "cell_type": "markdown",
   "metadata": {},
   "source": [
    "## String Manipulation"
   ]
  },
  {
   "cell_type": "code",
   "execution_count": 51,
   "metadata": {},
   "outputs": [
    {
     "name": "stdout",
     "output_type": "stream",
     "text": [
      "H-e-l-l-o-,- -w-o-r-l-d-"
     ]
    }
   ],
   "source": [
    "str1 = 'Hello, world'\n",
    "\n",
    "# traverse char by char and print\n",
    "# end - appended after last value\n",
    "for char in str1:\n",
    "    print(char,'-', end='', sep='')"
   ]
  },
  {
   "cell_type": "code",
   "execution_count": 53,
   "metadata": {},
   "outputs": [
    {
     "name": "stdout",
     "output_type": "stream",
     "text": [
      "H-e-l-l-o-,- -w-o-r-l-d-"
     ]
    }
   ],
   "source": [
    "# another way for loop\n",
    "for char in range(0, len(str1)):\n",
    "    print(str1[char],'-', end='', sep='')"
   ]
  },
  {
   "cell_type": "markdown",
   "metadata": {},
   "source": [
    "### String addition /concatenation"
   ]
  },
  {
   "cell_type": "code",
   "execution_count": 55,
   "metadata": {},
   "outputs": [
    {
     "name": "stdout",
     "output_type": "stream",
     "text": [
      "first second\n"
     ]
    }
   ],
   "source": [
    "str1 = 'first'\n",
    "str2 = 'second'\n",
    "str3 = str1 + ' ' + str2\n",
    "print(str3)"
   ]
  },
  {
   "cell_type": "code",
   "execution_count": 58,
   "metadata": {},
   "outputs": [
    {
     "name": "stdout",
     "output_type": "stream",
     "text": [
      " hello hello hello\n"
     ]
    }
   ],
   "source": [
    "## string replication\n",
    "str1 = ' hello'\n",
    "print(3*str1)"
   ]
  },
  {
   "cell_type": "code",
   "execution_count": 59,
   "metadata": {},
   "outputs": [
    {
     "name": "stdout",
     "output_type": "stream",
     "text": [
      "strstrstr\n"
     ]
    }
   ],
   "source": [
    "print(3*\"str\")"
   ]
  },
  {
   "cell_type": "code",
   "execution_count": 61,
   "metadata": {},
   "outputs": [
    {
     "data": {
      "text/plain": [
       "False"
      ]
     },
     "execution_count": 61,
     "metadata": {},
     "output_type": "execute_result"
    }
   ],
   "source": [
    "'A' > 'a'"
   ]
  },
  {
   "cell_type": "code",
   "execution_count": 66,
   "metadata": {},
   "outputs": [
    {
     "name": "stdout",
     "output_type": "stream",
     "text": [
      "65\n",
      "97\n",
      "a\n"
     ]
    }
   ],
   "source": [
    "# get ascii value - ord()\n",
    "\n",
    "print(ord('A'))\n",
    "print(ord('a'))\n",
    "\n",
    "## from integer (ascii value) to char\n",
    "print(chr(97))"
   ]
  },
  {
   "cell_type": "markdown",
   "metadata": {},
   "source": [
    "### Slicing"
   ]
  },
  {
   "cell_type": "code",
   "execution_count": 77,
   "metadata": {},
   "outputs": [
    {
     "name": "stdout",
     "output_type": "stream",
     "text": [
      "9\n",
      "wonderf\n",
      "ond\n",
      "wonder\n",
      "erful\n",
      "odru\n"
     ]
    }
   ],
   "source": [
    "str1 = 'wonderful'\n",
    "print(len(str1))\n",
    "print(str1[0:7])\n",
    "print(str1[-8:-5])\n",
    "print(str1[:6])\n",
    "print(str1[4:])\n",
    "\n",
    "# skip one char string{start:end:skip]}\n",
    "print(str1[1:9:2])"
   ]
  },
  {
   "cell_type": "code",
   "execution_count": 82,
   "metadata": {},
   "outputs": [
    {
     "name": "stdout",
     "output_type": "stream",
     "text": [
      "Hello, world\n",
      "35\n"
     ]
    }
   ],
   "source": [
    "var1 = 'hello, world'\n",
    "print(var1.capitalize())\n",
    "\n",
    "str2 = ' the quick brown fox jumped over a lazy dog 1234 times'\n",
    "subStr = str2.find('lazy')\n",
    "print(subStr)"
   ]
  },
  {
   "cell_type": "code",
   "execution_count": 76,
   "metadata": {},
   "outputs": [],
   "source": [
    "?str"
   ]
  },
  {
   "cell_type": "code",
   "execution_count": 87,
   "metadata": {},
   "outputs": [
    {
     "name": "stdout",
     "output_type": "stream",
     "text": [
      "['s', 'h', 'y', 'a', 'm']\n"
     ]
    }
   ],
   "source": [
    "list1 = ['s',1,'y',56,98]\n",
    "list1[1]='h'\n",
    "list1[3]='a'\n",
    "list1[-1]='m'\n",
    "print(list1)\n"
   ]
  },
  {
   "cell_type": "code",
   "execution_count": 95,
   "metadata": {},
   "outputs": [
    {
     "data": {
      "text/plain": [
       "'anandan balaji'"
      ]
     },
     "execution_count": 95,
     "metadata": {},
     "output_type": "execute_result"
    }
   ],
   "source": [
    "a = 'sai Geetha Manoharan'\n",
    "a.upper()\n",
    "b = 'ANANDAN BALAJI'\n",
    "b.lower()"
   ]
  },
  {
   "cell_type": "markdown",
   "metadata": {},
   "source": [
    "## Control Statement"
   ]
  },
  {
   "cell_type": "code",
   "execution_count": 19,
   "metadata": {},
   "outputs": [
    {
     "name": "stdout",
     "output_type": "stream",
     "text": [
      "False\n"
     ]
    }
   ],
   "source": [
    "a = 11\n",
    "b = a < 10\n",
    "print(b)"
   ]
  },
  {
   "cell_type": "code",
   "execution_count": 7,
   "metadata": {},
   "outputs": [],
   "source": [
    "i = 15\n",
    "if i<10:\n",
    "    i = i + 2\n",
    "    print(i)\n",
    "    "
   ]
  },
  {
   "cell_type": "markdown",
   "metadata": {},
   "source": [
    "# List Manipulation"
   ]
  },
  {
   "cell_type": "code",
   "execution_count": null,
   "metadata": {},
   "outputs": [],
   "source": [
    "l1 = list(input('enter list elements:'))"
   ]
  },
  {
   "cell_type": "code",
   "execution_count": 98,
   "metadata": {},
   "outputs": [
    {
     "name": "stdout",
     "output_type": "stream",
     "text": [
      "['s', 'h', 'r', 'e', 'y', 'a', 'b', 'u', 'm']\n"
     ]
    }
   ],
   "source": [
    "print(l1)"
   ]
  },
  {
   "cell_type": "code",
   "execution_count": 2,
   "metadata": {},
   "outputs": [
    {
     "name": "stdout",
     "output_type": "stream",
     "text": [
      "[1, 2, 3, 4, 2, 3, 4, 5]\n"
     ]
    }
   ],
   "source": [
    "b = [2,3,4,5]\n",
    "a = [1,2,3,4]\n",
    "c = a + b\n",
    "print(c)"
   ]
  },
  {
   "cell_type": "code",
   "execution_count": 3,
   "metadata": {},
   "outputs": [
    {
     "name": "stdout",
     "output_type": "stream",
     "text": [
      "[2, 3, 4, 5]\n"
     ]
    }
   ],
   "source": [
    "b = [2,3,4,5]\n",
    "print(b)"
   ]
  },
  {
   "cell_type": "code",
   "execution_count": 6,
   "metadata": {},
   "outputs": [
    {
     "name": "stdout",
     "output_type": "stream",
     "text": [
      "['r', 'e', 'y']\n"
     ]
    }
   ],
   "source": [
    "l1 = list('shreyabum')\n",
    "l1\n",
    "len(l1)\n",
    "a = l1[2:5]\n",
    "print(a)"
   ]
  },
  {
   "cell_type": "code",
   "execution_count": 13,
   "metadata": {},
   "outputs": [
    {
     "data": {
      "text/plain": [
       "[0, 2, 3, 8, 11, 23, 34, 46]"
      ]
     },
     "execution_count": 13,
     "metadata": {},
     "output_type": "execute_result"
    }
   ],
   "source": [
    "l1 = [23,46,2,8,0,3,11,34]\n",
    "\n",
    "l1.sort()\n",
    "l1"
   ]
  },
  {
   "cell_type": "code",
   "execution_count": null,
   "metadata": {},
   "outputs": [],
   "source": []
  }
 ],
 "metadata": {
  "kernelspec": {
   "display_name": "Python 3",
   "language": "python",
   "name": "python3"
  },
  "language_info": {
   "codemirror_mode": {
    "name": "ipython",
    "version": 3
   },
   "file_extension": ".py",
   "mimetype": "text/x-python",
   "name": "python",
   "nbconvert_exporter": "python",
   "pygments_lexer": "ipython3",
   "version": "3.6.4"
  }
 },
 "nbformat": 4,
 "nbformat_minor": 2
}
